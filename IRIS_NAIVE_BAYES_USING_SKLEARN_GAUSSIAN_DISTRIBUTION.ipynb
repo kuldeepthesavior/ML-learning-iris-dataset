{
 "cells": [
  {
   "cell_type": "markdown",
   "metadata": {},
   "source": [
    "## Importing the libraries"
   ]
  },
  {
   "cell_type": "code",
   "execution_count": 58,
   "metadata": {},
   "outputs": [],
   "source": [
    "from sklearn import datasets\n",
    "from sklearn import metrics\n",
    "from sklearn.naive_bayes import GaussianNB"
   ]
  },
  {
   "cell_type": "markdown",
   "metadata": {},
   "source": [
    "## Printing the attribute of datasets imported from sklearn"
   ]
  },
  {
   "cell_type": "code",
   "execution_count": 59,
   "metadata": {},
   "outputs": [
    {
     "data": {
      "text/plain": [
       "module"
      ]
     },
     "execution_count": 59,
     "metadata": {},
     "output_type": "execute_result"
    }
   ],
   "source": [
    "type(datasets)"
   ]
  },
  {
   "cell_type": "code",
   "execution_count": 60,
   "metadata": {},
   "outputs": [
    {
     "data": {
      "text/plain": [
       "['__all__',\n",
       " '__builtins__',\n",
       " '__cached__',\n",
       " '__doc__',\n",
       " '__file__',\n",
       " '__loader__',\n",
       " '__name__',\n",
       " '__package__',\n",
       " '__path__',\n",
       " '__spec__',\n",
       " '_svmlight_format',\n",
       " 'base',\n",
       " 'california_housing',\n",
       " 'clear_data_home',\n",
       " 'covtype',\n",
       " 'dump_svmlight_file',\n",
       " 'fetch_20newsgroups',\n",
       " 'fetch_20newsgroups_vectorized',\n",
       " 'fetch_california_housing',\n",
       " 'fetch_covtype',\n",
       " 'fetch_kddcup99',\n",
       " 'fetch_lfw_pairs',\n",
       " 'fetch_lfw_people',\n",
       " 'fetch_mldata',\n",
       " 'fetch_olivetti_faces',\n",
       " 'fetch_openml',\n",
       " 'fetch_rcv1',\n",
       " 'fetch_species_distributions',\n",
       " 'get_data_home',\n",
       " 'kddcup99',\n",
       " 'lfw',\n",
       " 'load_boston',\n",
       " 'load_breast_cancer',\n",
       " 'load_diabetes',\n",
       " 'load_digits',\n",
       " 'load_files',\n",
       " 'load_iris',\n",
       " 'load_linnerud',\n",
       " 'load_mlcomp',\n",
       " 'load_sample_image',\n",
       " 'load_sample_images',\n",
       " 'load_svmlight_file',\n",
       " 'load_svmlight_files',\n",
       " 'load_wine',\n",
       " 'make_biclusters',\n",
       " 'make_blobs',\n",
       " 'make_checkerboard',\n",
       " 'make_circles',\n",
       " 'make_classification',\n",
       " 'make_friedman1',\n",
       " 'make_friedman2',\n",
       " 'make_friedman3',\n",
       " 'make_gaussian_quantiles',\n",
       " 'make_hastie_10_2',\n",
       " 'make_low_rank_matrix',\n",
       " 'make_moons',\n",
       " 'make_multilabel_classification',\n",
       " 'make_regression',\n",
       " 'make_s_curve',\n",
       " 'make_sparse_coded_signal',\n",
       " 'make_sparse_spd_matrix',\n",
       " 'make_sparse_uncorrelated',\n",
       " 'make_spd_matrix',\n",
       " 'make_swiss_roll',\n",
       " 'mlcomp',\n",
       " 'mldata',\n",
       " 'mldata_filename',\n",
       " 'olivetti_faces',\n",
       " 'openml',\n",
       " 'rcv1',\n",
       " 'samples_generator',\n",
       " 'species_distributions',\n",
       " 'svmlight_format',\n",
       " 'twenty_newsgroups']"
      ]
     },
     "execution_count": 60,
     "metadata": {},
     "output_type": "execute_result"
    }
   ],
   "source": [
    "#names of the attributes of the module\n",
    "dir(datasets)"
   ]
  },
  {
   "cell_type": "code",
   "execution_count": 61,
   "metadata": {},
   "outputs": [
    {
     "data": {
      "text/plain": [
       "{'__name__': 'sklearn.datasets',\n",
       " '__doc__': '\\nThe :mod:`sklearn.datasets` module includes utilities to load datasets,\\nincluding methods to load and fetch popular reference datasets. It also\\nfeatures some artificial data generators.\\n',\n",
       " '__package__': 'sklearn.datasets',\n",
       " '__loader__': <_frozen_importlib_external.SourceFileLoader at 0x7f50464ddf28>,\n",
       " '__spec__': ModuleSpec(name='sklearn.datasets', loader=<_frozen_importlib_external.SourceFileLoader object at 0x7f50464ddf28>, origin='/home/hindu/anaconda3/lib/python3.7/site-packages/sklearn/datasets/__init__.py', submodule_search_locations=['/home/hindu/anaconda3/lib/python3.7/site-packages/sklearn/datasets']),\n",
       " '__path__': ['/home/hindu/anaconda3/lib/python3.7/site-packages/sklearn/datasets'],\n",
       " '__file__': '/home/hindu/anaconda3/lib/python3.7/site-packages/sklearn/datasets/__init__.py',\n",
       " '__cached__': '/home/hindu/anaconda3/lib/python3.7/site-packages/sklearn/datasets/__pycache__/__init__.cpython-37.pyc',\n",
       " '__builtins__': {'__name__': 'builtins',\n",
       "  '__doc__': \"Built-in functions, exceptions, and other objects.\\n\\nNoteworthy: None is the `nil' object; Ellipsis represents `...' in slices.\",\n",
       "  '__package__': '',\n",
       "  '__loader__': _frozen_importlib.BuiltinImporter,\n",
       "  '__spec__': ModuleSpec(name='builtins', loader=<class '_frozen_importlib.BuiltinImporter'>),\n",
       "  '__build_class__': <function __build_class__>,\n",
       "  '__import__': <function __import__>,\n",
       "  'abs': <function abs(x, /)>,\n",
       "  'all': <function all(iterable, /)>,\n",
       "  'any': <function any(iterable, /)>,\n",
       "  'ascii': <function ascii(obj, /)>,\n",
       "  'bin': <function bin(number, /)>,\n",
       "  'breakpoint': <function breakpoint>,\n",
       "  'callable': <function callable(obj, /)>,\n",
       "  'chr': <function chr(i, /)>,\n",
       "  'compile': <function compile(source, filename, mode, flags=0, dont_inherit=False, optimize=-1)>,\n",
       "  'delattr': <function delattr(obj, name, /)>,\n",
       "  'dir': <function dir>,\n",
       "  'divmod': <function divmod(x, y, /)>,\n",
       "  'eval': <function eval(source, globals=None, locals=None, /)>,\n",
       "  'exec': <function exec(source, globals=None, locals=None, /)>,\n",
       "  'format': <function format(value, format_spec='', /)>,\n",
       "  'getattr': <function getattr>,\n",
       "  'globals': <function globals()>,\n",
       "  'hasattr': <function hasattr(obj, name, /)>,\n",
       "  'hash': <function hash(obj, /)>,\n",
       "  'hex': <function hex(number, /)>,\n",
       "  'id': <function id(obj, /)>,\n",
       "  'input': <bound method Kernel.raw_input of <ipykernel.ipkernel.IPythonKernel object at 0x7f507005bda0>>,\n",
       "  'isinstance': <function isinstance(obj, class_or_tuple, /)>,\n",
       "  'issubclass': <function issubclass(cls, class_or_tuple, /)>,\n",
       "  'iter': <function iter>,\n",
       "  'len': <function len(obj, /)>,\n",
       "  'locals': <function locals()>,\n",
       "  'max': <function max>,\n",
       "  'min': <function min>,\n",
       "  'next': <function next>,\n",
       "  'oct': <function oct(number, /)>,\n",
       "  'ord': <function ord(c, /)>,\n",
       "  'pow': <function pow(x, y, z=None, /)>,\n",
       "  'print': <function print>,\n",
       "  'repr': <function repr(obj, /)>,\n",
       "  'round': <function round(number, ndigits=None)>,\n",
       "  'setattr': <function setattr(obj, name, value, /)>,\n",
       "  'sorted': <function sorted(iterable, /, *, key=None, reverse=False)>,\n",
       "  'sum': <function sum(iterable, start=0, /)>,\n",
       "  'vars': <function vars>,\n",
       "  'None': None,\n",
       "  'Ellipsis': Ellipsis,\n",
       "  'NotImplemented': NotImplemented,\n",
       "  'False': False,\n",
       "  'True': True,\n",
       "  'bool': bool,\n",
       "  'memoryview': memoryview,\n",
       "  'bytearray': bytearray,\n",
       "  'bytes': bytes,\n",
       "  'classmethod': classmethod,\n",
       "  'complex': complex,\n",
       "  'dict': dict,\n",
       "  'enumerate': enumerate,\n",
       "  'filter': filter,\n",
       "  'float': float,\n",
       "  'frozenset': frozenset,\n",
       "  'property': property,\n",
       "  'int': int,\n",
       "  'list': list,\n",
       "  'map': map,\n",
       "  'object': object,\n",
       "  'range': range,\n",
       "  'reversed': reversed,\n",
       "  'set': set,\n",
       "  'slice': slice,\n",
       "  'staticmethod': staticmethod,\n",
       "  'str': str,\n",
       "  'super': super,\n",
       "  'tuple': tuple,\n",
       "  'type': type,\n",
       "  'zip': zip,\n",
       "  '__debug__': True,\n",
       "  'BaseException': BaseException,\n",
       "  'Exception': Exception,\n",
       "  'TypeError': TypeError,\n",
       "  'StopAsyncIteration': StopAsyncIteration,\n",
       "  'StopIteration': StopIteration,\n",
       "  'GeneratorExit': GeneratorExit,\n",
       "  'SystemExit': SystemExit,\n",
       "  'KeyboardInterrupt': KeyboardInterrupt,\n",
       "  'ImportError': ImportError,\n",
       "  'ModuleNotFoundError': ModuleNotFoundError,\n",
       "  'OSError': OSError,\n",
       "  'EnvironmentError': OSError,\n",
       "  'IOError': OSError,\n",
       "  'EOFError': EOFError,\n",
       "  'RuntimeError': RuntimeError,\n",
       "  'RecursionError': RecursionError,\n",
       "  'NotImplementedError': NotImplementedError,\n",
       "  'NameError': NameError,\n",
       "  'UnboundLocalError': UnboundLocalError,\n",
       "  'AttributeError': AttributeError,\n",
       "  'SyntaxError': SyntaxError,\n",
       "  'IndentationError': IndentationError,\n",
       "  'TabError': TabError,\n",
       "  'LookupError': LookupError,\n",
       "  'IndexError': IndexError,\n",
       "  'KeyError': KeyError,\n",
       "  'ValueError': ValueError,\n",
       "  'UnicodeError': UnicodeError,\n",
       "  'UnicodeEncodeError': UnicodeEncodeError,\n",
       "  'UnicodeDecodeError': UnicodeDecodeError,\n",
       "  'UnicodeTranslateError': UnicodeTranslateError,\n",
       "  'AssertionError': AssertionError,\n",
       "  'ArithmeticError': ArithmeticError,\n",
       "  'FloatingPointError': FloatingPointError,\n",
       "  'OverflowError': OverflowError,\n",
       "  'ZeroDivisionError': ZeroDivisionError,\n",
       "  'SystemError': SystemError,\n",
       "  'ReferenceError': ReferenceError,\n",
       "  'MemoryError': MemoryError,\n",
       "  'BufferError': BufferError,\n",
       "  'Warning': Warning,\n",
       "  'UserWarning': UserWarning,\n",
       "  'DeprecationWarning': DeprecationWarning,\n",
       "  'PendingDeprecationWarning': PendingDeprecationWarning,\n",
       "  'SyntaxWarning': SyntaxWarning,\n",
       "  'RuntimeWarning': RuntimeWarning,\n",
       "  'FutureWarning': FutureWarning,\n",
       "  'ImportWarning': ImportWarning,\n",
       "  'UnicodeWarning': UnicodeWarning,\n",
       "  'BytesWarning': BytesWarning,\n",
       "  'ResourceWarning': ResourceWarning,\n",
       "  'ConnectionError': ConnectionError,\n",
       "  'BlockingIOError': BlockingIOError,\n",
       "  'BrokenPipeError': BrokenPipeError,\n",
       "  'ChildProcessError': ChildProcessError,\n",
       "  'ConnectionAbortedError': ConnectionAbortedError,\n",
       "  'ConnectionRefusedError': ConnectionRefusedError,\n",
       "  'ConnectionResetError': ConnectionResetError,\n",
       "  'FileExistsError': FileExistsError,\n",
       "  'FileNotFoundError': FileNotFoundError,\n",
       "  'IsADirectoryError': IsADirectoryError,\n",
       "  'NotADirectoryError': NotADirectoryError,\n",
       "  'InterruptedError': InterruptedError,\n",
       "  'PermissionError': PermissionError,\n",
       "  'ProcessLookupError': ProcessLookupError,\n",
       "  'TimeoutError': TimeoutError,\n",
       "  'open': <function io.open(file, mode='r', buffering=-1, encoding=None, errors=None, newline=None, closefd=True, opener=None)>,\n",
       "  'copyright': Copyright (c) 2001-2019 Python Software Foundation.\n",
       "  All Rights Reserved.\n",
       "  \n",
       "  Copyright (c) 2000 BeOpen.com.\n",
       "  All Rights Reserved.\n",
       "  \n",
       "  Copyright (c) 1995-2001 Corporation for National Research Initiatives.\n",
       "  All Rights Reserved.\n",
       "  \n",
       "  Copyright (c) 1991-1995 Stichting Mathematisch Centrum, Amsterdam.\n",
       "  All Rights Reserved.,\n",
       "  'credits':     Thanks to CWI, CNRI, BeOpen.com, Zope Corporation and a cast of thousands\n",
       "      for supporting Python development.  See www.python.org for more information.,\n",
       "  'license': Type license() to see the full license text,\n",
       "  'help': Type help() for interactive help, or help(object) for help about object.,\n",
       "  '__IPYTHON__': True,\n",
       "  'display': <function IPython.core.display.display(*objs, include=None, exclude=None, metadata=None, transient=None, display_id=None, **kwargs)>,\n",
       "  'get_ipython': <bound method InteractiveShell.get_ipython of <ipykernel.zmqshell.ZMQInteractiveShell object at 0x7f50707d4c18>>},\n",
       " 'base': <module 'sklearn.datasets.base' from '/home/hindu/anaconda3/lib/python3.7/site-packages/sklearn/datasets/base.py'>,\n",
       " 'load_breast_cancer': <function sklearn.datasets.base.load_breast_cancer(return_X_y=False)>,\n",
       " 'load_boston': <function sklearn.datasets.base.load_boston(return_X_y=False)>,\n",
       " 'load_diabetes': <function sklearn.datasets.base.load_diabetes(return_X_y=False)>,\n",
       " 'load_digits': <function sklearn.datasets.base.load_digits(n_class=10, return_X_y=False)>,\n",
       " 'load_files': <function sklearn.datasets.base.load_files(container_path, description=None, categories=None, load_content=True, shuffle=True, encoding=None, decode_error='strict', random_state=0)>,\n",
       " 'load_iris': <function sklearn.datasets.base.load_iris(return_X_y=False)>,\n",
       " 'load_linnerud': <function sklearn.datasets.base.load_linnerud(return_X_y=False)>,\n",
       " 'load_sample_images': <function sklearn.datasets.base.load_sample_images()>,\n",
       " 'load_sample_image': <function sklearn.datasets.base.load_sample_image(image_name)>,\n",
       " 'load_wine': <function sklearn.datasets.base.load_wine(return_X_y=False)>,\n",
       " 'get_data_home': <function sklearn.datasets.base.get_data_home(data_home=None)>,\n",
       " 'clear_data_home': <function sklearn.datasets.base.clear_data_home(data_home=None)>,\n",
       " 'covtype': <module 'sklearn.datasets.covtype' from '/home/hindu/anaconda3/lib/python3.7/site-packages/sklearn/datasets/covtype.py'>,\n",
       " 'fetch_covtype': <function sklearn.datasets.covtype.fetch_covtype(data_home=None, download_if_missing=True, random_state=None, shuffle=False, return_X_y=False)>,\n",
       " 'kddcup99': <module 'sklearn.datasets.kddcup99' from '/home/hindu/anaconda3/lib/python3.7/site-packages/sklearn/datasets/kddcup99.py'>,\n",
       " 'fetch_kddcup99': <function sklearn.datasets.kddcup99.fetch_kddcup99(subset=None, data_home=None, shuffle=False, random_state=None, percent10=True, download_if_missing=True, return_X_y=False)>,\n",
       " 'mlcomp': <module 'sklearn.datasets.mlcomp' from '/home/hindu/anaconda3/lib/python3.7/site-packages/sklearn/datasets/mlcomp.py'>,\n",
       " 'load_mlcomp': <function sklearn.datasets.mlcomp.load_mlcomp(name_or_id, set_='raw', mlcomp_root=None, **kwargs)>,\n",
       " 'lfw': <module 'sklearn.datasets.lfw' from '/home/hindu/anaconda3/lib/python3.7/site-packages/sklearn/datasets/lfw.py'>,\n",
       " 'fetch_lfw_pairs': <function sklearn.datasets.lfw.fetch_lfw_pairs(subset='train', data_home=None, funneled=True, resize=0.5, color=False, slice_=(slice(70, 195, None), slice(78, 172, None)), download_if_missing=True)>,\n",
       " 'fetch_lfw_people': <function sklearn.datasets.lfw.fetch_lfw_people(data_home=None, funneled=True, resize=0.5, min_faces_per_person=0, color=False, slice_=(slice(70, 195, None), slice(78, 172, None)), download_if_missing=True, return_X_y=False)>,\n",
       " 'twenty_newsgroups': <module 'sklearn.datasets.twenty_newsgroups' from '/home/hindu/anaconda3/lib/python3.7/site-packages/sklearn/datasets/twenty_newsgroups.py'>,\n",
       " 'fetch_20newsgroups': <function sklearn.datasets.twenty_newsgroups.fetch_20newsgroups(data_home=None, subset='train', categories=None, shuffle=True, random_state=42, remove=(), download_if_missing=True)>,\n",
       " 'fetch_20newsgroups_vectorized': <function sklearn.datasets.twenty_newsgroups.fetch_20newsgroups_vectorized(subset='train', remove=(), data_home=None, download_if_missing=True, return_X_y=False)>,\n",
       " 'mldata': <module 'sklearn.datasets.mldata' from '/home/hindu/anaconda3/lib/python3.7/site-packages/sklearn/datasets/mldata.py'>,\n",
       " 'fetch_mldata': <function sklearn.datasets.mldata.fetch_mldata(dataname, target_name='label', data_name='data', transpose_data=True, data_home=None)>,\n",
       " 'mldata_filename': <function sklearn.datasets.mldata.mldata_filename(dataname)>,\n",
       " 'openml': <module 'sklearn.datasets.openml' from '/home/hindu/anaconda3/lib/python3.7/site-packages/sklearn/datasets/openml.py'>,\n",
       " 'fetch_openml': <function sklearn.datasets.openml.fetch_openml(name=None, version='active', data_id=None, data_home=None, target_column='default-target', cache=True, return_X_y=False)>,\n",
       " 'samples_generator': <module 'sklearn.datasets.samples_generator' from '/home/hindu/anaconda3/lib/python3.7/site-packages/sklearn/datasets/samples_generator.py'>,\n",
       " 'make_classification': <function sklearn.datasets.samples_generator.make_classification(n_samples=100, n_features=20, n_informative=2, n_redundant=2, n_repeated=0, n_classes=2, n_clusters_per_class=2, weights=None, flip_y=0.01, class_sep=1.0, hypercube=True, shift=0.0, scale=1.0, shuffle=True, random_state=None)>,\n",
       " 'make_multilabel_classification': <function sklearn.datasets.samples_generator.make_multilabel_classification(n_samples=100, n_features=20, n_classes=5, n_labels=2, length=50, allow_unlabeled=True, sparse=False, return_indicator='dense', return_distributions=False, random_state=None)>,\n",
       " 'make_hastie_10_2': <function sklearn.datasets.samples_generator.make_hastie_10_2(n_samples=12000, random_state=None)>,\n",
       " 'make_regression': <function sklearn.datasets.samples_generator.make_regression(n_samples=100, n_features=100, n_informative=10, n_targets=1, bias=0.0, effective_rank=None, tail_strength=0.5, noise=0.0, shuffle=True, coef=False, random_state=None)>,\n",
       " 'make_blobs': <function sklearn.datasets.samples_generator.make_blobs(n_samples=100, n_features=2, centers=None, cluster_std=1.0, center_box=(-10.0, 10.0), shuffle=True, random_state=None)>,\n",
       " 'make_moons': <function sklearn.datasets.samples_generator.make_moons(n_samples=100, shuffle=True, noise=None, random_state=None)>,\n",
       " 'make_circles': <function sklearn.datasets.samples_generator.make_circles(n_samples=100, shuffle=True, noise=None, random_state=None, factor=0.8)>,\n",
       " 'make_friedman1': <function sklearn.datasets.samples_generator.make_friedman1(n_samples=100, n_features=10, noise=0.0, random_state=None)>,\n",
       " 'make_friedman2': <function sklearn.datasets.samples_generator.make_friedman2(n_samples=100, noise=0.0, random_state=None)>,\n",
       " 'make_friedman3': <function sklearn.datasets.samples_generator.make_friedman3(n_samples=100, noise=0.0, random_state=None)>,\n",
       " 'make_low_rank_matrix': <function sklearn.datasets.samples_generator.make_low_rank_matrix(n_samples=100, n_features=100, effective_rank=10, tail_strength=0.5, random_state=None)>,\n",
       " 'make_sparse_coded_signal': <function sklearn.datasets.samples_generator.make_sparse_coded_signal(n_samples, n_components, n_features, n_nonzero_coefs, random_state=None)>,\n",
       " 'make_sparse_uncorrelated': <function sklearn.datasets.samples_generator.make_sparse_uncorrelated(n_samples=100, n_features=10, random_state=None)>,\n",
       " 'make_spd_matrix': <function sklearn.datasets.samples_generator.make_spd_matrix(n_dim, random_state=None)>,\n",
       " 'make_swiss_roll': <function sklearn.datasets.samples_generator.make_swiss_roll(n_samples=100, noise=0.0, random_state=None)>,\n",
       " 'make_s_curve': <function sklearn.datasets.samples_generator.make_s_curve(n_samples=100, noise=0.0, random_state=None)>,\n",
       " 'make_sparse_spd_matrix': <function sklearn.datasets.samples_generator.make_sparse_spd_matrix(dim=1, alpha=0.95, norm_diag=False, smallest_coef=0.1, largest_coef=0.9, random_state=None)>,\n",
       " 'make_gaussian_quantiles': <function sklearn.datasets.samples_generator.make_gaussian_quantiles(mean=None, cov=1.0, n_samples=100, n_features=2, n_classes=3, shuffle=True, random_state=None)>,\n",
       " 'make_biclusters': <function sklearn.datasets.samples_generator.make_biclusters(shape, n_clusters, noise=0.0, minval=10, maxval=100, shuffle=True, random_state=None)>,\n",
       " 'make_checkerboard': <function sklearn.datasets.samples_generator.make_checkerboard(shape, n_clusters, noise=0.0, minval=10, maxval=100, shuffle=True, random_state=None)>,\n",
       " '_svmlight_format': <module 'sklearn.datasets._svmlight_format' from '/home/hindu/anaconda3/lib/python3.7/site-packages/sklearn/datasets/_svmlight_format.cpython-37m-x86_64-linux-gnu.so'>,\n",
       " 'svmlight_format': <module 'sklearn.datasets.svmlight_format' from '/home/hindu/anaconda3/lib/python3.7/site-packages/sklearn/datasets/svmlight_format.py'>,\n",
       " 'load_svmlight_file': <function sklearn.datasets.svmlight_format.load_svmlight_file(f, n_features=None, dtype=<class 'numpy.float64'>, multilabel=False, zero_based='auto', query_id=False, offset=0, length=-1)>,\n",
       " 'load_svmlight_files': <function sklearn.datasets.svmlight_format.load_svmlight_files(files, n_features=None, dtype=<class 'numpy.float64'>, multilabel=False, zero_based='auto', query_id=False, offset=0, length=-1)>,\n",
       " 'dump_svmlight_file': <function sklearn.datasets.svmlight_format.dump_svmlight_file(X, y, f, zero_based=True, comment=None, query_id=None, multilabel=False)>,\n",
       " 'olivetti_faces': <module 'sklearn.datasets.olivetti_faces' from '/home/hindu/anaconda3/lib/python3.7/site-packages/sklearn/datasets/olivetti_faces.py'>,\n",
       " 'fetch_olivetti_faces': <function sklearn.datasets.olivetti_faces.fetch_olivetti_faces(data_home=None, shuffle=False, random_state=0, download_if_missing=True)>,\n",
       " 'species_distributions': <module 'sklearn.datasets.species_distributions' from '/home/hindu/anaconda3/lib/python3.7/site-packages/sklearn/datasets/species_distributions.py'>,\n",
       " 'fetch_species_distributions': <function sklearn.datasets.species_distributions.fetch_species_distributions(data_home=None, download_if_missing=True)>,\n",
       " 'california_housing': <module 'sklearn.datasets.california_housing' from '/home/hindu/anaconda3/lib/python3.7/site-packages/sklearn/datasets/california_housing.py'>,\n",
       " 'fetch_california_housing': <function sklearn.datasets.california_housing.fetch_california_housing(data_home=None, download_if_missing=True, return_X_y=False)>,\n",
       " 'rcv1': <module 'sklearn.datasets.rcv1' from '/home/hindu/anaconda3/lib/python3.7/site-packages/sklearn/datasets/rcv1.py'>,\n",
       " 'fetch_rcv1': <function sklearn.datasets.rcv1.fetch_rcv1(data_home=None, subset='all', download_if_missing=True, random_state=None, shuffle=False, return_X_y=False)>,\n",
       " '__all__': ['clear_data_home',\n",
       "  'dump_svmlight_file',\n",
       "  'fetch_20newsgroups',\n",
       "  'fetch_20newsgroups_vectorized',\n",
       "  'fetch_lfw_pairs',\n",
       "  'fetch_lfw_people',\n",
       "  'fetch_mldata',\n",
       "  'fetch_olivetti_faces',\n",
       "  'fetch_species_distributions',\n",
       "  'fetch_california_housing',\n",
       "  'fetch_covtype',\n",
       "  'fetch_rcv1',\n",
       "  'fetch_kddcup99',\n",
       "  'fetch_openml',\n",
       "  'get_data_home',\n",
       "  'load_boston',\n",
       "  'load_diabetes',\n",
       "  'load_digits',\n",
       "  'load_files',\n",
       "  'load_iris',\n",
       "  'load_breast_cancer',\n",
       "  'load_linnerud',\n",
       "  'load_mlcomp',\n",
       "  'load_sample_image',\n",
       "  'load_sample_images',\n",
       "  'load_svmlight_file',\n",
       "  'load_svmlight_files',\n",
       "  'load_wine',\n",
       "  'make_biclusters',\n",
       "  'make_blobs',\n",
       "  'make_circles',\n",
       "  'make_classification',\n",
       "  'make_checkerboard',\n",
       "  'make_friedman1',\n",
       "  'make_friedman2',\n",
       "  'make_friedman3',\n",
       "  'make_gaussian_quantiles',\n",
       "  'make_hastie_10_2',\n",
       "  'make_low_rank_matrix',\n",
       "  'make_moons',\n",
       "  'make_multilabel_classification',\n",
       "  'make_regression',\n",
       "  'make_s_curve',\n",
       "  'make_sparse_coded_signal',\n",
       "  'make_sparse_spd_matrix',\n",
       "  'make_sparse_uncorrelated',\n",
       "  'make_spd_matrix',\n",
       "  'make_swiss_roll',\n",
       "  'mldata_filename']}"
      ]
     },
     "execution_count": 61,
     "metadata": {},
     "output_type": "execute_result"
    }
   ],
   "source": [
    "#mapping between the keys and the attributes objects themselves\n",
    "datasets.__dict__"
   ]
  },
  {
   "cell_type": "code",
   "execution_count": 62,
   "metadata": {},
   "outputs": [
    {
     "data": {
      "text/plain": [
       "dict_keys(['__name__', '__doc__', '__package__', '__loader__', '__spec__', '__path__', '__file__', '__cached__', '__builtins__', 'base', 'load_breast_cancer', 'load_boston', 'load_diabetes', 'load_digits', 'load_files', 'load_iris', 'load_linnerud', 'load_sample_images', 'load_sample_image', 'load_wine', 'get_data_home', 'clear_data_home', 'covtype', 'fetch_covtype', 'kddcup99', 'fetch_kddcup99', 'mlcomp', 'load_mlcomp', 'lfw', 'fetch_lfw_pairs', 'fetch_lfw_people', 'twenty_newsgroups', 'fetch_20newsgroups', 'fetch_20newsgroups_vectorized', 'mldata', 'fetch_mldata', 'mldata_filename', 'openml', 'fetch_openml', 'samples_generator', 'make_classification', 'make_multilabel_classification', 'make_hastie_10_2', 'make_regression', 'make_blobs', 'make_moons', 'make_circles', 'make_friedman1', 'make_friedman2', 'make_friedman3', 'make_low_rank_matrix', 'make_sparse_coded_signal', 'make_sparse_uncorrelated', 'make_spd_matrix', 'make_swiss_roll', 'make_s_curve', 'make_sparse_spd_matrix', 'make_gaussian_quantiles', 'make_biclusters', 'make_checkerboard', '_svmlight_format', 'svmlight_format', 'load_svmlight_file', 'load_svmlight_files', 'dump_svmlight_file', 'olivetti_faces', 'fetch_olivetti_faces', 'species_distributions', 'fetch_species_distributions', 'california_housing', 'fetch_california_housing', 'rcv1', 'fetch_rcv1', '__all__'])"
      ]
     },
     "execution_count": 62,
     "metadata": {},
     "output_type": "execute_result"
    }
   ],
   "source": [
    "## same as dir(datasets)\n",
    "datasets.__dict__.keys() "
   ]
  },
  {
   "cell_type": "markdown",
   "metadata": {},
   "source": [
    "## Loading iris dataset"
   ]
  },
  {
   "cell_type": "code",
   "execution_count": 63,
   "metadata": {},
   "outputs": [],
   "source": [
    "dataset=datasets.load_iris()"
   ]
  },
  {
   "cell_type": "code",
   "execution_count": 64,
   "metadata": {},
   "outputs": [
    {
     "data": {
      "text/plain": [
       "['DESCR', 'data', 'feature_names', 'filename', 'target', 'target_names']"
      ]
     },
     "execution_count": 64,
     "metadata": {},
     "output_type": "execute_result"
    }
   ],
   "source": [
    "# type(dataset)\n",
    "dir(dataset)"
   ]
  },
  {
   "cell_type": "markdown",
   "metadata": {},
   "source": [
    "## coverting to pandas dataframe"
   ]
  },
  {
   "cell_type": "code",
   "execution_count": 65,
   "metadata": {},
   "outputs": [
    {
     "data": {
      "text/html": [
       "<div>\n",
       "<style scoped>\n",
       "    .dataframe tbody tr th:only-of-type {\n",
       "        vertical-align: middle;\n",
       "    }\n",
       "\n",
       "    .dataframe tbody tr th {\n",
       "        vertical-align: top;\n",
       "    }\n",
       "\n",
       "    .dataframe thead th {\n",
       "        text-align: right;\n",
       "    }\n",
       "</style>\n",
       "<table border=\"1\" class=\"dataframe\">\n",
       "  <thead>\n",
       "    <tr style=\"text-align: right;\">\n",
       "      <th></th>\n",
       "      <th>sepal length (cm)</th>\n",
       "      <th>sepal width (cm)</th>\n",
       "      <th>petal length (cm)</th>\n",
       "      <th>petal width (cm)</th>\n",
       "      <th>target</th>\n",
       "    </tr>\n",
       "  </thead>\n",
       "  <tbody>\n",
       "    <tr>\n",
       "      <th>0</th>\n",
       "      <td>5.1</td>\n",
       "      <td>3.5</td>\n",
       "      <td>1.4</td>\n",
       "      <td>0.2</td>\n",
       "      <td>0</td>\n",
       "    </tr>\n",
       "    <tr>\n",
       "      <th>1</th>\n",
       "      <td>4.9</td>\n",
       "      <td>3.0</td>\n",
       "      <td>1.4</td>\n",
       "      <td>0.2</td>\n",
       "      <td>0</td>\n",
       "    </tr>\n",
       "    <tr>\n",
       "      <th>2</th>\n",
       "      <td>4.7</td>\n",
       "      <td>3.2</td>\n",
       "      <td>1.3</td>\n",
       "      <td>0.2</td>\n",
       "      <td>0</td>\n",
       "    </tr>\n",
       "    <tr>\n",
       "      <th>3</th>\n",
       "      <td>4.6</td>\n",
       "      <td>3.1</td>\n",
       "      <td>1.5</td>\n",
       "      <td>0.2</td>\n",
       "      <td>0</td>\n",
       "    </tr>\n",
       "    <tr>\n",
       "      <th>4</th>\n",
       "      <td>5.0</td>\n",
       "      <td>3.6</td>\n",
       "      <td>1.4</td>\n",
       "      <td>0.2</td>\n",
       "      <td>0</td>\n",
       "    </tr>\n",
       "  </tbody>\n",
       "</table>\n",
       "</div>"
      ],
      "text/plain": [
       "   sepal length (cm)  sepal width (cm)  petal length (cm)  petal width (cm)  \\\n",
       "0                5.1               3.5                1.4               0.2   \n",
       "1                4.9               3.0                1.4               0.2   \n",
       "2                4.7               3.2                1.3               0.2   \n",
       "3                4.6               3.1                1.5               0.2   \n",
       "4                5.0               3.6                1.4               0.2   \n",
       "\n",
       "   target  \n",
       "0       0  \n",
       "1       0  \n",
       "2       0  \n",
       "3       0  \n",
       "4       0  "
      ]
     },
     "execution_count": 65,
     "metadata": {},
     "output_type": "execute_result"
    }
   ],
   "source": [
    "# from sklearn.datasets import load_iris\n",
    "import pandas as pd\n",
    "\n",
    "# data = dataset\n",
    "# df = pd.DataFrame(data.data, columns=data.feature_names)\n",
    "# df['target']=data['target']\n",
    "# df.head()\n",
    "\n",
    "data = dataset\n",
    "df = pd.DataFrame(data['data'], columns=data['feature_names'])\n",
    "df['target'] = data['target']\n",
    "df.head()"
   ]
  },
  {
   "cell_type": "code",
   "execution_count": 66,
   "metadata": {},
   "outputs": [
    {
     "name": "stdout",
     "output_type": "stream",
     "text": [
      "<class 'pandas.core.frame.DataFrame'>\n",
      "RangeIndex: 150 entries, 0 to 149\n",
      "Data columns (total 5 columns):\n",
      "sepal length (cm)    150 non-null float64\n",
      "sepal width (cm)     150 non-null float64\n",
      "petal length (cm)    150 non-null float64\n",
      "petal width (cm)     150 non-null float64\n",
      "target               150 non-null int64\n",
      "dtypes: float64(4), int64(1)\n",
      "memory usage: 5.9 KB\n"
     ]
    }
   ],
   "source": [
    "df.info()"
   ]
  },
  {
   "cell_type": "markdown",
   "metadata": {},
   "source": [
    "## Importing the model"
   ]
  },
  {
   "cell_type": "code",
   "execution_count": 67,
   "metadata": {},
   "outputs": [],
   "source": [
    "model=GaussianNB()"
   ]
  },
  {
   "cell_type": "markdown",
   "metadata": {},
   "source": [
    "## Fitting the data in model"
   ]
  },
  {
   "cell_type": "code",
   "execution_count": 68,
   "metadata": {},
   "outputs": [
    {
     "data": {
      "text/plain": [
       "GaussianNB(priors=None, var_smoothing=1e-09)"
      ]
     },
     "execution_count": 68,
     "metadata": {},
     "output_type": "execute_result"
    }
   ],
   "source": [
    "## dataset.data == train data\n",
    "## dataset.target == test data\n",
    "\n",
    "model.fit(dataset.data, dataset.target)"
   ]
  },
  {
   "cell_type": "code",
   "execution_count": 69,
   "metadata": {},
   "outputs": [
    {
     "name": "stdout",
     "output_type": "stream",
     "text": [
      "GaussianNB(priors=None, var_smoothing=1e-09)\n"
     ]
    }
   ],
   "source": [
    "print(model)"
   ]
  },
  {
   "cell_type": "markdown",
   "metadata": {},
   "source": [
    "## taking the values of target in other variable"
   ]
  },
  {
   "cell_type": "code",
   "execution_count": 70,
   "metadata": {},
   "outputs": [],
   "source": [
    "\n",
    "expected=dataset.target"
   ]
  },
  {
   "cell_type": "code",
   "execution_count": 71,
   "metadata": {},
   "outputs": [],
   "source": [
    "predicted=model.predict(dataset.data)"
   ]
  },
  {
   "cell_type": "markdown",
   "metadata": {},
   "source": [
    "## checking the classicification report and confusion matrix"
   ]
  },
  {
   "cell_type": "code",
   "execution_count": 72,
   "metadata": {},
   "outputs": [
    {
     "name": "stdout",
     "output_type": "stream",
     "text": [
      "              precision    recall  f1-score   support\n",
      "\n",
      "           0       1.00      1.00      1.00        50\n",
      "           1       0.94      0.94      0.94        50\n",
      "           2       0.94      0.94      0.94        50\n",
      "\n",
      "   micro avg       0.96      0.96      0.96       150\n",
      "   macro avg       0.96      0.96      0.96       150\n",
      "weighted avg       0.96      0.96      0.96       150\n",
      "\n"
     ]
    }
   ],
   "source": [
    "print(metrics.classification_report(expected,predicted))"
   ]
  },
  {
   "cell_type": "code",
   "execution_count": 73,
   "metadata": {},
   "outputs": [
    {
     "name": "stdout",
     "output_type": "stream",
     "text": [
      "[[50  0  0]\n",
      " [ 0 47  3]\n",
      " [ 0  3 47]]\n"
     ]
    }
   ],
   "source": [
    "print(metrics.confusion_matrix(expected,predicted))"
   ]
  },
  {
   "cell_type": "markdown",
   "metadata": {},
   "source": [
    "## checking the accuracy"
   ]
  },
  {
   "cell_type": "code",
   "execution_count": 74,
   "metadata": {},
   "outputs": [
    {
     "name": "stdout",
     "output_type": "stream",
     "text": [
      "96.0 %\n"
     ]
    }
   ],
   "source": [
    "print(metrics.accuracy_score(expected,predicted)*100,'%')"
   ]
  },
  {
   "cell_type": "code",
   "execution_count": null,
   "metadata": {},
   "outputs": [],
   "source": []
  },
  {
   "cell_type": "code",
   "execution_count": null,
   "metadata": {},
   "outputs": [],
   "source": []
  }
 ],
 "metadata": {
  "kernelspec": {
   "display_name": "Python 3",
   "language": "python",
   "name": "python3"
  },
  "language_info": {
   "codemirror_mode": {
    "name": "ipython",
    "version": 3
   },
   "file_extension": ".py",
   "mimetype": "text/x-python",
   "name": "python",
   "nbconvert_exporter": "python",
   "pygments_lexer": "ipython3",
   "version": "3.7.3"
  }
 },
 "nbformat": 4,
 "nbformat_minor": 2
}
