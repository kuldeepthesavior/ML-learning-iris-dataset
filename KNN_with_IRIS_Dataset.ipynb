{
 "cells": [
  {
   "cell_type": "markdown",
   "metadata": {},
   "source": [
    "## Reading the dataset in csv format"
   ]
  },
  {
   "cell_type": "code",
   "execution_count": 40,
   "metadata": {},
   "outputs": [
    {
     "name": "stdout",
     "output_type": "stream",
     "text": [
      "<class '_csv.reader'>\n",
      "['sepal_length', 'sepal_width', 'petal_length', 'petal_width', 'species']\n",
      "['5.1', '3.5', '1.4', '0.2', 'setosa']\n",
      "['4.9', '3.0', '1.4', '0.2', 'setosa']\n",
      "['4.7', '3.2', '1.3', '0.2', 'setosa']\n",
      "['4.6', '3.1', '1.5', '0.2', 'setosa']\n",
      "['5.0', '3.6', '1.4', '0.2', 'setosa']\n",
      "['5.4', '3.9', '1.7', '0.4', 'setosa']\n",
      "['4.6', '3.4', '1.4', '0.3', 'setosa']\n",
      "['5.0', '3.4', '1.5', '0.2', 'setosa']\n",
      "['4.4', '2.9', '1.4', '0.2', 'setosa']\n",
      "['4.9', '3.1', '1.5', '0.1', 'setosa']\n",
      "['5.4', '3.7', '1.5', '0.2', 'setosa']\n",
      "['4.8', '3.4', '1.6', '0.2', 'setosa']\n",
      "['4.8', '3.0', '1.4', '0.1', 'setosa']\n",
      "['4.3', '3.0', '1.1', '0.1', 'setosa']\n",
      "['5.8', '4.0', '1.2', '0.2', 'setosa']\n",
      "['5.7', '4.4', '1.5', '0.4', 'setosa']\n",
      "['5.4', '3.9', '1.3', '0.4', 'setosa']\n",
      "['5.1', '3.5', '1.4', '0.3', 'setosa']\n",
      "['5.7', '3.8', '1.7', '0.3', 'setosa']\n",
      "['5.1', '3.8', '1.5', '0.3', 'setosa']\n",
      "['5.4', '3.4', '1.7', '0.2', 'setosa']\n",
      "['5.1', '3.7', '1.5', '0.4', 'setosa']\n",
      "['4.6', '3.6', '1.0', '0.2', 'setosa']\n",
      "['5.1', '3.3', '1.7', '0.5', 'setosa']\n",
      "['4.8', '3.4', '1.9', '0.2', 'setosa']\n",
      "['5.0', '3.0', '1.6', '0.2', 'setosa']\n",
      "['5.0', '3.4', '1.6', '0.4', 'setosa']\n",
      "['5.2', '3.5', '1.5', '0.2', 'setosa']\n",
      "['5.2', '3.4', '1.4', '0.2', 'setosa']\n",
      "['4.7', '3.2', '1.6', '0.2', 'setosa']\n",
      "['4.8', '3.1', '1.6', '0.2', 'setosa']\n",
      "['5.4', '3.4', '1.5', '0.4', 'setosa']\n",
      "['5.2', '4.1', '1.5', '0.1', 'setosa']\n",
      "['5.5', '4.2', '1.4', '0.2', 'setosa']\n",
      "['4.9', '3.1', '1.5', '0.1', 'setosa']\n",
      "['5.0', '3.2', '1.2', '0.2', 'setosa']\n",
      "['5.5', '3.5', '1.3', '0.2', 'setosa']\n",
      "['4.9', '3.1', '1.5', '0.1', 'setosa']\n",
      "['4.4', '3.0', '1.3', '0.2', 'setosa']\n",
      "['5.1', '3.4', '1.5', '0.2', 'setosa']\n",
      "['5.0', '3.5', '1.3', '0.3', 'setosa']\n",
      "['4.5', '2.3', '1.3', '0.3', 'setosa']\n",
      "['4.4', '3.2', '1.3', '0.2', 'setosa']\n",
      "['5.0', '3.5', '1.6', '0.6', 'setosa']\n",
      "['5.1', '3.8', '1.9', '0.4', 'setosa']\n",
      "['4.8', '3.0', '1.4', '0.3', 'setosa']\n",
      "['5.1', '3.8', '1.6', '0.2', 'setosa']\n",
      "['4.6', '3.2', '1.4', '0.2', 'setosa']\n",
      "['5.3', '3.7', '1.5', '0.2', 'setosa']\n",
      "['5.0', '3.3', '1.4', '0.2', 'setosa']\n",
      "['7.0', '3.2', '4.7', '1.4', 'versicolor']\n",
      "['6.4', '3.2', '4.5', '1.5', 'versicolor']\n",
      "['6.9', '3.1', '4.9', '1.5', 'versicolor']\n",
      "['5.5', '2.3', '4.0', '1.3', 'versicolor']\n",
      "['6.5', '2.8', '4.6', '1.5', 'versicolor']\n",
      "['5.7', '2.8', '4.5', '1.3', 'versicolor']\n",
      "['6.3', '3.3', '4.7', '1.6', 'versicolor']\n",
      "['4.9', '2.4', '3.3', '1.0', 'versicolor']\n",
      "['6.6', '2.9', '4.6', '1.3', 'versicolor']\n",
      "['5.2', '2.7', '3.9', '1.4', 'versicolor']\n",
      "['5.0', '2.0', '3.5', '1.0', 'versicolor']\n",
      "['5.9', '3.0', '4.2', '1.5', 'versicolor']\n",
      "['6.0', '2.2', '4.0', '1.0', 'versicolor']\n",
      "['6.1', '2.9', '4.7', '1.4', 'versicolor']\n",
      "['5.6', '2.9', '3.6', '1.3', 'versicolor']\n",
      "['6.7', '3.1', '4.4', '1.4', 'versicolor']\n",
      "['5.6', '3.0', '4.5', '1.5', 'versicolor']\n",
      "['5.8', '2.7', '4.1', '1.0', 'versicolor']\n",
      "['6.2', '2.2', '4.5', '1.5', 'versicolor']\n",
      "['5.6', '2.5', '3.9', '1.1', 'versicolor']\n",
      "['5.9', '3.2', '4.8', '1.8', 'versicolor']\n",
      "['6.1', '2.8', '4.0', '1.3', 'versicolor']\n",
      "['6.3', '2.5', '4.9', '1.5', 'versicolor']\n",
      "['6.1', '2.8', '4.7', '1.2', 'versicolor']\n",
      "['6.4', '2.9', '4.3', '1.3', 'versicolor']\n",
      "['6.6', '3.0', '4.4', '1.4', 'versicolor']\n",
      "['6.8', '2.8', '4.8', '1.4', 'versicolor']\n",
      "['6.7', '3.0', '5.0', '1.7', 'versicolor']\n",
      "['6.0', '2.9', '4.5', '1.5', 'versicolor']\n",
      "['5.7', '2.6', '3.5', '1.0', 'versicolor']\n",
      "['5.5', '2.4', '3.8', '1.1', 'versicolor']\n",
      "['5.5', '2.4', '3.7', '1.0', 'versicolor']\n",
      "['5.8', '2.7', '3.9', '1.2', 'versicolor']\n",
      "['6.0', '2.7', '5.1', '1.6', 'versicolor']\n",
      "['5.4', '3.0', '4.5', '1.5', 'versicolor']\n",
      "['6.0', '3.4', '4.5', '1.6', 'versicolor']\n",
      "['6.7', '3.1', '4.7', '1.5', 'versicolor']\n",
      "['6.3', '2.3', '4.4', '1.3', 'versicolor']\n",
      "['5.6', '3.0', '4.1', '1.3', 'versicolor']\n",
      "['5.5', '2.5', '4.0', '1.3', 'versicolor']\n",
      "['5.5', '2.6', '4.4', '1.2', 'versicolor']\n",
      "['6.1', '3.0', '4.6', '1.4', 'versicolor']\n",
      "['5.8', '2.6', '4.0', '1.2', 'versicolor']\n",
      "['5.0', '2.3', '3.3', '1.0', 'versicolor']\n",
      "['5.6', '2.7', '4.2', '1.3', 'versicolor']\n",
      "['5.7', '3.0', '4.2', '1.2', 'versicolor']\n",
      "['5.7', '2.9', '4.2', '1.3', 'versicolor']\n",
      "['6.2', '2.9', '4.3', '1.3', 'versicolor']\n",
      "['5.1', '2.5', '3.0', '1.1', 'versicolor']\n",
      "['5.7', '2.8', '4.1', '1.3', 'versicolor']\n",
      "['6.3', '3.3', '6.0', '2.5', 'virginica']\n",
      "['5.8', '2.7', '5.1', '1.9', 'virginica']\n",
      "['7.1', '3.0', '5.9', '2.1', 'virginica']\n",
      "['6.3', '2.9', '5.6', '1.8', 'virginica']\n",
      "['6.5', '3.0', '5.8', '2.2', 'virginica']\n",
      "['7.6', '3.0', '6.6', '2.1', 'virginica']\n",
      "['4.9', '2.5', '4.5', '1.7', 'virginica']\n",
      "['7.3', '2.9', '6.3', '1.8', 'virginica']\n",
      "['6.7', '2.5', '5.8', '1.8', 'virginica']\n",
      "['7.2', '3.6', '6.1', '2.5', 'virginica']\n",
      "['6.5', '3.2', '5.1', '2.0', 'virginica']\n",
      "['6.4', '2.7', '5.3', '1.9', 'virginica']\n",
      "['6.8', '3.0', '5.5', '2.1', 'virginica']\n",
      "['5.7', '2.5', '5.0', '2.0', 'virginica']\n",
      "['5.8', '2.8', '5.1', '2.4', 'virginica']\n",
      "['6.4', '3.2', '5.3', '2.3', 'virginica']\n",
      "['6.5', '3.0', '5.5', '1.8', 'virginica']\n",
      "['7.7', '3.8', '6.7', '2.2', 'virginica']\n",
      "['7.7', '2.6', '6.9', '2.3', 'virginica']\n",
      "['6.0', '2.2', '5.0', '1.5', 'virginica']\n",
      "['6.9', '3.2', '5.7', '2.3', 'virginica']\n",
      "['5.6', '2.8', '4.9', '2.0', 'virginica']\n",
      "['7.7', '2.8', '6.7', '2.0', 'virginica']\n",
      "['6.3', '2.7', '4.9', '1.8', 'virginica']\n",
      "['6.7', '3.3', '5.7', '2.1', 'virginica']\n",
      "['7.2', '3.2', '6.0', '1.8', 'virginica']\n",
      "['6.2', '2.8', '4.8', '1.8', 'virginica']\n",
      "['6.1', '3.0', '4.9', '1.8', 'virginica']\n",
      "['6.4', '2.8', '5.6', '2.1', 'virginica']\n",
      "['7.2', '3.0', '5.8', '1.6', 'virginica']\n",
      "['7.4', '2.8', '6.1', '1.9', 'virginica']\n",
      "['7.9', '3.8', '6.4', '2.0', 'virginica']\n",
      "['6.4', '2.8', '5.6', '2.2', 'virginica']\n",
      "['6.3', '2.8', '5.1', '1.5', 'virginica']\n",
      "['6.1', '2.6', '5.6', '1.4', 'virginica']\n",
      "['7.7', '3.0', '6.1', '2.3', 'virginica']\n",
      "['6.3', '3.4', '5.6', '2.4', 'virginica']\n",
      "['6.4', '3.1', '5.5', '1.8', 'virginica']\n",
      "['6.0', '3.0', '4.8', '1.8', 'virginica']\n",
      "['6.9', '3.1', '5.4', '2.1', 'virginica']\n",
      "['6.7', '3.1', '5.6', '2.4', 'virginica']\n",
      "['6.9', '3.1', '5.1', '2.3', 'virginica']\n",
      "['5.8', '2.7', '5.1', '1.9', 'virginica']\n",
      "['6.8', '3.2', '5.9', '2.3', 'virginica']\n",
      "['6.7', '3.3', '5.7', '2.5', 'virginica']\n",
      "['6.7', '3.0', '5.2', '2.3', 'virginica']\n",
      "['6.3', '2.5', '5.0', '1.9', 'virginica']\n",
      "['6.5', '3.0', '5.2', '2.0', 'virginica']\n",
      "['6.2', '3.4', '5.4', '2.3', 'virginica']\n",
      "['5.9', '3.0', '5.1', '1.8', 'virginica']\n"
     ]
    }
   ],
   "source": [
    "import pandas as pd\n",
    "with open('/home/hindu/Desktop/python/ml learn/iris_dataset/iris.csv','r') as iris_data:\n",
    "    lines=csv.reader(iris_data)\n",
    "    print(type(lines))\n",
    "#     print(len(list(lines)))\n",
    "    for row in lines:\n",
    "        print(row)\n",
    "\n",
    "# lines.info()\n",
    "# iris_data=pd.read_csv('/home/hindu/Desktop/python/ml learn/iris_dataset/iris.csv')"
   ]
  },
  {
   "cell_type": "markdown",
   "metadata": {},
   "source": [
    "## Spliting the data into train test data"
   ]
  },
  {
   "cell_type": "code",
   "execution_count": 29,
   "metadata": {},
   "outputs": [],
   "source": [
    "import random\n",
    "def loadDataSplit(filename , split , traindata=[],testdata=[]):\n",
    "    with open (filename ,'r') as datafile:\n",
    "        dataset =list(csv.reader(datafile))\n",
    "        for x in range(1,len(dataset)-1):\n",
    "            for y in range(4):\n",
    "                dataset[x][y]=float(dataset[x][y])\n",
    "                if random.random()<split:\n",
    "                    traindata.append(dataset[x])\n",
    "                else:\n",
    "                    testdata.append(dataset[x])"
   ]
  },
  {
   "cell_type": "code",
   "execution_count": 42,
   "metadata": {},
   "outputs": [
    {
     "name": "stdout",
     "output_type": "stream",
     "text": [
      "Train data :  104.0\n",
      "Test data :  45.0\n"
     ]
    }
   ],
   "source": [
    "traindata=[]\n",
    "testdata=[]\n",
    "loadDataSplit('/home/hindu/Desktop/python/ml learn/iris_dataset/iris.csv',0.70,traindata,testdata)\n",
    "print('Train data : ',repr(len(traindata)/4))\n",
    "print('Test data : ' , repr(len(testdata)/4))"
   ]
  },
  {
   "cell_type": "code",
   "execution_count": 43,
   "metadata": {},
   "outputs": [
    {
     "name": "stdout",
     "output_type": "stream",
     "text": [
      "[[5.1, 3.5, 1.4, 0.2, 'setosa'], [4.9, 3.0, 1.4, 0.2, 'setosa'], [4.9, 3.0, 1.4, 0.2, 'setosa'], [4.9, 3.0, 1.4, 0.2, 'setosa'], [4.7, 3.2, 1.3, 0.2, 'setosa'], [4.7, 3.2, 1.3, 0.2, 'setosa'], [4.7, 3.2, 1.3, 0.2, 'setosa'], [4.6, 3.1, 1.5, 0.2, 'setosa'], [4.6, 3.1, 1.5, 0.2, 'setosa'], [4.6, 3.1, 1.5, 0.2, 'setosa'], [5.0, 3.6, 1.4, 0.2, 'setosa'], [5.4, 3.9, 1.7, 0.4, 'setosa'], [5.4, 3.9, 1.7, 0.4, 'setosa'], [5.4, 3.9, 1.7, 0.4, 'setosa'], [4.6, 3.4, 1.4, 0.3, 'setosa'], [4.6, 3.4, 1.4, 0.3, 'setosa'], [4.6, 3.4, 1.4, 0.3, 'setosa'], [5.0, 3.4, 1.5, 0.2, 'setosa'], [5.0, 3.4, 1.5, 0.2, 'setosa'], [5.0, 3.4, 1.5, 0.2, 'setosa'], [5.0, 3.4, 1.5, 0.2, 'setosa'], [4.4, 2.9, 1.4, 0.2, 'setosa'], [4.4, 2.9, 1.4, 0.2, 'setosa'], [4.4, 2.9, 1.4, 0.2, 'setosa'], [4.9, 3.1, 1.5, 0.1, 'setosa'], [4.9, 3.1, 1.5, 0.1, 'setosa'], [5.4, 3.7, 1.5, 0.2, 'setosa'], [5.4, 3.7, 1.5, 0.2, 'setosa'], [5.4, 3.7, 1.5, 0.2, 'setosa'], [4.8, 3.4, 1.6, 0.2, 'setosa'], [4.8, 3.4, 1.6, 0.2, 'setosa'], [4.8, 3.4, 1.6, 0.2, 'setosa'], [4.8, 3.0, 1.4, 0.1, 'setosa'], [4.8, 3.0, 1.4, 0.1, 'setosa'], [4.8, 3.0, 1.4, 0.1, 'setosa'], [4.3, 3.0, 1.1, 0.1, 'setosa'], [4.3, 3.0, 1.1, 0.1, 'setosa'], [4.3, 3.0, 1.1, 0.1, 'setosa'], [4.3, 3.0, 1.1, 0.1, 'setosa'], [5.8, 4.0, 1.2, 0.2, 'setosa'], [5.8, 4.0, 1.2, 0.2, 'setosa'], [5.8, 4.0, 1.2, 0.2, 'setosa'], [5.7, 4.4, 1.5, 0.4, 'setosa'], [5.7, 4.4, 1.5, 0.4, 'setosa'], [5.7, 4.4, 1.5, 0.4, 'setosa'], [5.4, 3.9, 1.3, 0.4, 'setosa'], [5.4, 3.9, 1.3, 0.4, 'setosa'], [5.1, 3.5, 1.4, 0.3, 'setosa'], [5.1, 3.5, 1.4, 0.3, 'setosa'], [5.7, 3.8, 1.7, 0.3, 'setosa'], [5.1, 3.8, 1.5, 0.3, 'setosa'], [5.1, 3.8, 1.5, 0.3, 'setosa'], [5.1, 3.8, 1.5, 0.3, 'setosa'], [5.1, 3.8, 1.5, 0.3, 'setosa'], [5.4, 3.4, 1.7, 0.2, 'setosa'], [5.4, 3.4, 1.7, 0.2, 'setosa'], [5.4, 3.4, 1.7, 0.2, 'setosa'], [5.1, 3.7, 1.5, 0.4, 'setosa'], [5.1, 3.7, 1.5, 0.4, 'setosa'], [5.1, 3.7, 1.5, 0.4, 'setosa'], [4.6, 3.6, 1.0, 0.2, 'setosa'], [4.6, 3.6, 1.0, 0.2, 'setosa'], [5.1, 3.3, 1.7, 0.5, 'setosa'], [5.1, 3.3, 1.7, 0.5, 'setosa'], [5.1, 3.3, 1.7, 0.5, 'setosa'], [4.8, 3.4, 1.9, 0.2, 'setosa'], [4.8, 3.4, 1.9, 0.2, 'setosa'], [5.0, 3.0, 1.6, 0.2, 'setosa'], [5.0, 3.0, 1.6, 0.2, 'setosa'], [5.0, 3.4, 1.6, 0.4, 'setosa'], [5.0, 3.4, 1.6, 0.4, 'setosa'], [5.0, 3.4, 1.6, 0.4, 'setosa'], [5.2, 3.5, 1.5, 0.2, 'setosa'], [5.2, 3.5, 1.5, 0.2, 'setosa'], [5.2, 3.5, 1.5, 0.2, 'setosa'], [5.2, 3.4, 1.4, 0.2, 'setosa'], [5.2, 3.4, 1.4, 0.2, 'setosa'], [4.7, 3.2, 1.6, 0.2, 'setosa'], [4.7, 3.2, 1.6, 0.2, 'setosa'], [4.7, 3.2, 1.6, 0.2, 'setosa'], [4.7, 3.2, 1.6, 0.2, 'setosa'], [4.8, 3.1, 1.6, 0.2, 'setosa'], [4.8, 3.1, 1.6, 0.2, 'setosa'], [4.8, 3.1, 1.6, 0.2, 'setosa'], [4.8, 3.1, 1.6, 0.2, 'setosa'], [5.4, 3.4, 1.5, 0.4, 'setosa'], [5.4, 3.4, 1.5, 0.4, 'setosa'], [5.4, 3.4, 1.5, 0.4, 'setosa'], [5.4, 3.4, 1.5, 0.4, 'setosa'], [5.2, 4.1, 1.5, 0.1, 'setosa'], [5.2, 4.1, 1.5, 0.1, 'setosa'], [5.5, 4.2, 1.4, 0.2, 'setosa'], [5.5, 4.2, 1.4, 0.2, 'setosa'], [5.5, 4.2, 1.4, 0.2, 'setosa'], [4.9, 3.1, 1.5, 0.1, 'setosa'], [4.9, 3.1, 1.5, 0.1, 'setosa'], [4.9, 3.1, 1.5, 0.1, 'setosa'], [5.0, 3.2, 1.2, 0.2, 'setosa'], [5.0, 3.2, 1.2, 0.2, 'setosa'], [5.5, 3.5, 1.3, 0.2, 'setosa'], [5.5, 3.5, 1.3, 0.2, 'setosa'], [4.9, 3.1, 1.5, 0.1, 'setosa'], [4.9, 3.1, 1.5, 0.1, 'setosa'], [4.9, 3.1, 1.5, 0.1, 'setosa'], [4.4, 3.0, 1.3, 0.2, 'setosa'], [4.4, 3.0, 1.3, 0.2, 'setosa'], [4.4, 3.0, 1.3, 0.2, 'setosa'], [5.1, 3.4, 1.5, 0.2, 'setosa'], [5.1, 3.4, 1.5, 0.2, 'setosa'], [5.1, 3.4, 1.5, 0.2, 'setosa'], [5.0, 3.5, 1.3, 0.3, 'setosa'], [5.0, 3.5, 1.3, 0.3, 'setosa'], [5.0, 3.5, 1.3, 0.3, 'setosa'], [5.0, 3.5, 1.3, 0.3, 'setosa'], [4.5, 2.3, 1.3, 0.3, 'setosa'], [4.5, 2.3, 1.3, 0.3, 'setosa'], [4.4, 3.2, 1.3, 0.2, 'setosa'], [4.4, 3.2, 1.3, 0.2, 'setosa'], [4.4, 3.2, 1.3, 0.2, 'setosa'], [4.4, 3.2, 1.3, 0.2, 'setosa'], [5.0, 3.5, 1.6, 0.6, 'setosa'], [5.0, 3.5, 1.6, 0.6, 'setosa'], [5.1, 3.8, 1.9, 0.4, 'setosa'], [4.8, 3.0, 1.4, 0.3, 'setosa'], [5.1, 3.8, 1.6, 0.2, 'setosa'], [5.1, 3.8, 1.6, 0.2, 'setosa'], [4.6, 3.2, 1.4, 0.2, 'setosa'], [5.3, 3.7, 1.5, 0.2, 'setosa'], [5.0, 3.3, 1.4, 0.2, 'setosa'], [5.0, 3.3, 1.4, 0.2, 'setosa'], [7.0, 3.2, 4.7, 1.4, 'versicolor'], [7.0, 3.2, 4.7, 1.4, 'versicolor'], [7.0, 3.2, 4.7, 1.4, 'versicolor'], [7.0, 3.2, 4.7, 1.4, 'versicolor'], [6.4, 3.2, 4.5, 1.5, 'versicolor'], [6.4, 3.2, 4.5, 1.5, 'versicolor'], [6.4, 3.2, 4.5, 1.5, 'versicolor'], [6.4, 3.2, 4.5, 1.5, 'versicolor'], [6.9, 3.1, 4.9, 1.5, 'versicolor'], [6.9, 3.1, 4.9, 1.5, 'versicolor'], [5.5, 2.3, 4.0, 1.3, 'versicolor'], [5.5, 2.3, 4.0, 1.3, 'versicolor'], [5.5, 2.3, 4.0, 1.3, 'versicolor'], [6.5, 2.8, 4.6, 1.5, 'versicolor'], [6.5, 2.8, 4.6, 1.5, 'versicolor'], [6.5, 2.8, 4.6, 1.5, 'versicolor'], [5.7, 2.8, 4.5, 1.3, 'versicolor'], [5.7, 2.8, 4.5, 1.3, 'versicolor'], [6.3, 3.3, 4.7, 1.6, 'versicolor'], [6.3, 3.3, 4.7, 1.6, 'versicolor'], [4.9, 2.4, 3.3, 1.0, 'versicolor'], [4.9, 2.4, 3.3, 1.0, 'versicolor'], [6.6, 2.9, 4.6, 1.3, 'versicolor'], [6.6, 2.9, 4.6, 1.3, 'versicolor'], [6.6, 2.9, 4.6, 1.3, 'versicolor'], [5.2, 2.7, 3.9, 1.4, 'versicolor'], [5.2, 2.7, 3.9, 1.4, 'versicolor'], [5.0, 2.0, 3.5, 1.0, 'versicolor'], [5.0, 2.0, 3.5, 1.0, 'versicolor'], [5.0, 2.0, 3.5, 1.0, 'versicolor'], [5.9, 3.0, 4.2, 1.5, 'versicolor'], [5.9, 3.0, 4.2, 1.5, 'versicolor'], [5.9, 3.0, 4.2, 1.5, 'versicolor'], [6.0, 2.2, 4.0, 1.0, 'versicolor'], [6.0, 2.2, 4.0, 1.0, 'versicolor'], [6.0, 2.2, 4.0, 1.0, 'versicolor'], [6.0, 2.2, 4.0, 1.0, 'versicolor'], [6.1, 2.9, 4.7, 1.4, 'versicolor'], [6.1, 2.9, 4.7, 1.4, 'versicolor'], [6.1, 2.9, 4.7, 1.4, 'versicolor'], [6.1, 2.9, 4.7, 1.4, 'versicolor'], [5.6, 2.9, 3.6, 1.3, 'versicolor'], [5.6, 2.9, 3.6, 1.3, 'versicolor'], [5.6, 2.9, 3.6, 1.3, 'versicolor'], [5.6, 2.9, 3.6, 1.3, 'versicolor'], [6.7, 3.1, 4.4, 1.4, 'versicolor'], [6.7, 3.1, 4.4, 1.4, 'versicolor'], [6.7, 3.1, 4.4, 1.4, 'versicolor'], [5.6, 3.0, 4.5, 1.5, 'versicolor'], [5.6, 3.0, 4.5, 1.5, 'versicolor'], [5.6, 3.0, 4.5, 1.5, 'versicolor'], [5.6, 3.0, 4.5, 1.5, 'versicolor'], [5.8, 2.7, 4.1, 1.0, 'versicolor'], [5.8, 2.7, 4.1, 1.0, 'versicolor'], [5.8, 2.7, 4.1, 1.0, 'versicolor'], [6.2, 2.2, 4.5, 1.5, 'versicolor'], [6.2, 2.2, 4.5, 1.5, 'versicolor'], [6.2, 2.2, 4.5, 1.5, 'versicolor'], [5.6, 2.5, 3.9, 1.1, 'versicolor'], [5.9, 3.2, 4.8, 1.8, 'versicolor'], [5.9, 3.2, 4.8, 1.8, 'versicolor'], [5.9, 3.2, 4.8, 1.8, 'versicolor'], [6.1, 2.8, 4.0, 1.3, 'versicolor'], [6.1, 2.8, 4.0, 1.3, 'versicolor'], [6.3, 2.5, 4.9, 1.5, 'versicolor'], [6.3, 2.5, 4.9, 1.5, 'versicolor'], [6.1, 2.8, 4.7, 1.2, 'versicolor'], [6.1, 2.8, 4.7, 1.2, 'versicolor'], [6.4, 2.9, 4.3, 1.3, 'versicolor'], [6.4, 2.9, 4.3, 1.3, 'versicolor'], [6.6, 3.0, 4.4, 1.4, 'versicolor'], [6.6, 3.0, 4.4, 1.4, 'versicolor'], [6.6, 3.0, 4.4, 1.4, 'versicolor'], [6.6, 3.0, 4.4, 1.4, 'versicolor'], [6.8, 2.8, 4.8, 1.4, 'versicolor'], [6.8, 2.8, 4.8, 1.4, 'versicolor'], [6.7, 3.0, 5.0, 1.7, 'versicolor'], [6.7, 3.0, 5.0, 1.7, 'versicolor'], [6.0, 2.9, 4.5, 1.5, 'versicolor'], [6.0, 2.9, 4.5, 1.5, 'versicolor'], [6.0, 2.9, 4.5, 1.5, 'versicolor'], [6.0, 2.9, 4.5, 1.5, 'versicolor'], [5.7, 2.6, 3.5, 1.0, 'versicolor'], [5.7, 2.6, 3.5, 1.0, 'versicolor'], [5.7, 2.6, 3.5, 1.0, 'versicolor'], [5.5, 2.4, 3.8, 1.1, 'versicolor'], [5.5, 2.4, 3.8, 1.1, 'versicolor'], [5.5, 2.4, 3.7, 1.0, 'versicolor'], [5.5, 2.4, 3.7, 1.0, 'versicolor'], [5.8, 2.7, 3.9, 1.2, 'versicolor'], [5.8, 2.7, 3.9, 1.2, 'versicolor'], [6.0, 2.7, 5.1, 1.6, 'versicolor'], [6.0, 2.7, 5.1, 1.6, 'versicolor'], [6.0, 2.7, 5.1, 1.6, 'versicolor'], [5.4, 3.0, 4.5, 1.5, 'versicolor'], [5.4, 3.0, 4.5, 1.5, 'versicolor'], [5.4, 3.0, 4.5, 1.5, 'versicolor'], [5.4, 3.0, 4.5, 1.5, 'versicolor'], [6.0, 3.4, 4.5, 1.6, 'versicolor'], [6.0, 3.4, 4.5, 1.6, 'versicolor'], [6.0, 3.4, 4.5, 1.6, 'versicolor'], [6.0, 3.4, 4.5, 1.6, 'versicolor'], [6.7, 3.1, 4.7, 1.5, 'versicolor'], [6.7, 3.1, 4.7, 1.5, 'versicolor'], [6.7, 3.1, 4.7, 1.5, 'versicolor'], [6.7, 3.1, 4.7, 1.5, 'versicolor'], [6.3, 2.3, 4.4, 1.3, 'versicolor'], [6.3, 2.3, 4.4, 1.3, 'versicolor'], [6.3, 2.3, 4.4, 1.3, 'versicolor'], [6.3, 2.3, 4.4, 1.3, 'versicolor'], [5.6, 3.0, 4.1, 1.3, 'versicolor'], [5.6, 3.0, 4.1, 1.3, 'versicolor'], [5.6, 3.0, 4.1, 1.3, 'versicolor'], [5.6, 3.0, 4.1, 1.3, 'versicolor'], [5.5, 2.5, 4.0, 1.3, 'versicolor'], [5.5, 2.5, 4.0, 1.3, 'versicolor'], [5.5, 2.5, 4.0, 1.3, 'versicolor'], [5.5, 2.5, 4.0, 1.3, 'versicolor'], [5.5, 2.6, 4.4, 1.2, 'versicolor'], [5.5, 2.6, 4.4, 1.2, 'versicolor'], [5.5, 2.6, 4.4, 1.2, 'versicolor'], [6.1, 3.0, 4.6, 1.4, 'versicolor'], [6.1, 3.0, 4.6, 1.4, 'versicolor'], [6.1, 3.0, 4.6, 1.4, 'versicolor'], [6.1, 3.0, 4.6, 1.4, 'versicolor'], [5.8, 2.6, 4.0, 1.2, 'versicolor'], [5.8, 2.6, 4.0, 1.2, 'versicolor'], [5.0, 2.3, 3.3, 1.0, 'versicolor'], [5.6, 2.7, 4.2, 1.3, 'versicolor'], [5.6, 2.7, 4.2, 1.3, 'versicolor'], [5.6, 2.7, 4.2, 1.3, 'versicolor'], [5.7, 3.0, 4.2, 1.2, 'versicolor'], [5.7, 3.0, 4.2, 1.2, 'versicolor'], [5.7, 3.0, 4.2, 1.2, 'versicolor'], [5.7, 3.0, 4.2, 1.2, 'versicolor'], [5.7, 2.9, 4.2, 1.3, 'versicolor'], [5.7, 2.9, 4.2, 1.3, 'versicolor'], [5.7, 2.9, 4.2, 1.3, 'versicolor'], [6.2, 2.9, 4.3, 1.3, 'versicolor'], [6.2, 2.9, 4.3, 1.3, 'versicolor'], [6.2, 2.9, 4.3, 1.3, 'versicolor'], [6.2, 2.9, 4.3, 1.3, 'versicolor'], [5.1, 2.5, 3.0, 1.1, 'versicolor'], [5.1, 2.5, 3.0, 1.1, 'versicolor'], [5.1, 2.5, 3.0, 1.1, 'versicolor'], [5.7, 2.8, 4.1, 1.3, 'versicolor'], [5.7, 2.8, 4.1, 1.3, 'versicolor'], [5.7, 2.8, 4.1, 1.3, 'versicolor'], [6.3, 3.3, 6.0, 2.5, 'virginica'], [6.3, 3.3, 6.0, 2.5, 'virginica'], [6.3, 3.3, 6.0, 2.5, 'virginica'], [5.8, 2.7, 5.1, 1.9, 'virginica'], [5.8, 2.7, 5.1, 1.9, 'virginica'], [5.8, 2.7, 5.1, 1.9, 'virginica'], [7.1, 3.0, 5.9, 2.1, 'virginica'], [6.3, 2.9, 5.6, 1.8, 'virginica'], [6.3, 2.9, 5.6, 1.8, 'virginica'], [6.3, 2.9, 5.6, 1.8, 'virginica'], [6.5, 3.0, 5.8, 2.2, 'virginica'], [6.5, 3.0, 5.8, 2.2, 'virginica'], [6.5, 3.0, 5.8, 2.2, 'virginica'], [7.6, 3.0, 6.6, 2.1, 'virginica'], [7.6, 3.0, 6.6, 2.1, 'virginica'], [7.6, 3.0, 6.6, 2.1, 'virginica'], [4.9, 2.5, 4.5, 1.7, 'virginica'], [4.9, 2.5, 4.5, 1.7, 'virginica'], [4.9, 2.5, 4.5, 1.7, 'virginica'], [7.3, 2.9, 6.3, 1.8, 'virginica'], [7.3, 2.9, 6.3, 1.8, 'virginica'], [7.3, 2.9, 6.3, 1.8, 'virginica'], [6.7, 2.5, 5.8, 1.8, 'virginica'], [6.7, 2.5, 5.8, 1.8, 'virginica'], [7.2, 3.6, 6.1, 2.5, 'virginica'], [6.5, 3.2, 5.1, 2.0, 'virginica'], [6.5, 3.2, 5.1, 2.0, 'virginica'], [6.4, 2.7, 5.3, 1.9, 'virginica'], [6.4, 2.7, 5.3, 1.9, 'virginica'], [6.8, 3.0, 5.5, 2.1, 'virginica'], [6.8, 3.0, 5.5, 2.1, 'virginica'], [6.8, 3.0, 5.5, 2.1, 'virginica'], [5.7, 2.5, 5.0, 2.0, 'virginica'], [5.7, 2.5, 5.0, 2.0, 'virginica'], [5.7, 2.5, 5.0, 2.0, 'virginica'], [5.8, 2.8, 5.1, 2.4, 'virginica'], [5.8, 2.8, 5.1, 2.4, 'virginica'], [5.8, 2.8, 5.1, 2.4, 'virginica'], [6.4, 3.2, 5.3, 2.3, 'virginica'], [6.4, 3.2, 5.3, 2.3, 'virginica'], [6.4, 3.2, 5.3, 2.3, 'virginica'], [6.5, 3.0, 5.5, 1.8, 'virginica'], [6.5, 3.0, 5.5, 1.8, 'virginica'], [6.5, 3.0, 5.5, 1.8, 'virginica'], [6.5, 3.0, 5.5, 1.8, 'virginica'], [7.7, 3.8, 6.7, 2.2, 'virginica'], [7.7, 3.8, 6.7, 2.2, 'virginica'], [7.7, 2.6, 6.9, 2.3, 'virginica'], [7.7, 2.6, 6.9, 2.3, 'virginica'], [6.0, 2.2, 5.0, 1.5, 'virginica'], [6.0, 2.2, 5.0, 1.5, 'virginica'], [6.9, 3.2, 5.7, 2.3, 'virginica'], [6.9, 3.2, 5.7, 2.3, 'virginica'], [6.9, 3.2, 5.7, 2.3, 'virginica'], [6.9, 3.2, 5.7, 2.3, 'virginica'], [5.6, 2.8, 4.9, 2.0, 'virginica'], [7.7, 2.8, 6.7, 2.0, 'virginica'], [7.7, 2.8, 6.7, 2.0, 'virginica'], [7.7, 2.8, 6.7, 2.0, 'virginica'], [6.3, 2.7, 4.9, 1.8, 'virginica'], [6.3, 2.7, 4.9, 1.8, 'virginica'], [6.3, 2.7, 4.9, 1.8, 'virginica'], [6.3, 2.7, 4.9, 1.8, 'virginica'], [6.7, 3.3, 5.7, 2.1, 'virginica'], [6.7, 3.3, 5.7, 2.1, 'virginica'], [6.7, 3.3, 5.7, 2.1, 'virginica'], [6.7, 3.3, 5.7, 2.1, 'virginica'], [7.2, 3.2, 6.0, 1.8, 'virginica'], [7.2, 3.2, 6.0, 1.8, 'virginica'], [7.2, 3.2, 6.0, 1.8, 'virginica'], [7.2, 3.2, 6.0, 1.8, 'virginica'], [6.2, 2.8, 4.8, 1.8, 'virginica'], [6.2, 2.8, 4.8, 1.8, 'virginica'], [6.2, 2.8, 4.8, 1.8, 'virginica'], [6.1, 3.0, 4.9, 1.8, 'virginica'], [6.1, 3.0, 4.9, 1.8, 'virginica'], [6.1, 3.0, 4.9, 1.8, 'virginica'], [6.1, 3.0, 4.9, 1.8, 'virginica'], [6.4, 2.8, 5.6, 2.1, 'virginica'], [6.4, 2.8, 5.6, 2.1, 'virginica'], [6.4, 2.8, 5.6, 2.1, 'virginica'], [7.2, 3.0, 5.8, 1.6, 'virginica'], [7.2, 3.0, 5.8, 1.6, 'virginica'], [7.2, 3.0, 5.8, 1.6, 'virginica'], [7.2, 3.0, 5.8, 1.6, 'virginica'], [7.4, 2.8, 6.1, 1.9, 'virginica'], [7.4, 2.8, 6.1, 1.9, 'virginica'], [7.4, 2.8, 6.1, 1.9, 'virginica'], [7.4, 2.8, 6.1, 1.9, 'virginica'], [7.9, 3.8, 6.4, 2.0, 'virginica'], [7.9, 3.8, 6.4, 2.0, 'virginica'], [7.9, 3.8, 6.4, 2.0, 'virginica'], [6.4, 2.8, 5.6, 2.2, 'virginica'], [6.4, 2.8, 5.6, 2.2, 'virginica'], [6.4, 2.8, 5.6, 2.2, 'virginica'], [6.3, 2.8, 5.1, 1.5, 'virginica'], [6.3, 2.8, 5.1, 1.5, 'virginica'], [6.3, 2.8, 5.1, 1.5, 'virginica'], [6.1, 2.6, 5.6, 1.4, 'virginica'], [6.1, 2.6, 5.6, 1.4, 'virginica'], [7.7, 3.0, 6.1, 2.3, 'virginica'], [7.7, 3.0, 6.1, 2.3, 'virginica'], [7.7, 3.0, 6.1, 2.3, 'virginica'], [6.3, 3.4, 5.6, 2.4, 'virginica'], [6.3, 3.4, 5.6, 2.4, 'virginica'], [6.4, 3.1, 5.5, 1.8, 'virginica'], [6.4, 3.1, 5.5, 1.8, 'virginica'], [6.0, 3.0, 4.8, 1.8, 'virginica'], [6.0, 3.0, 4.8, 1.8, 'virginica'], [6.9, 3.1, 5.4, 2.1, 'virginica'], [6.9, 3.1, 5.4, 2.1, 'virginica'], [6.9, 3.1, 5.4, 2.1, 'virginica'], [6.7, 3.1, 5.6, 2.4, 'virginica'], [6.7, 3.1, 5.6, 2.4, 'virginica'], [6.7, 3.1, 5.6, 2.4, 'virginica'], [6.9, 3.1, 5.1, 2.3, 'virginica'], [6.9, 3.1, 5.1, 2.3, 'virginica'], [6.9, 3.1, 5.1, 2.3, 'virginica'], [6.9, 3.1, 5.1, 2.3, 'virginica'], [5.8, 2.7, 5.1, 1.9, 'virginica'], [5.8, 2.7, 5.1, 1.9, 'virginica'], [6.8, 3.2, 5.9, 2.3, 'virginica'], [6.8, 3.2, 5.9, 2.3, 'virginica'], [6.8, 3.2, 5.9, 2.3, 'virginica'], [6.7, 3.3, 5.7, 2.5, 'virginica'], [6.7, 3.3, 5.7, 2.5, 'virginica'], [6.7, 3.3, 5.7, 2.5, 'virginica'], [6.7, 3.3, 5.7, 2.5, 'virginica'], [6.7, 3.0, 5.2, 2.3, 'virginica'], [6.3, 2.5, 5.0, 1.9, 'virginica'], [6.3, 2.5, 5.0, 1.9, 'virginica'], [6.3, 2.5, 5.0, 1.9, 'virginica'], [6.5, 3.0, 5.2, 2.0, 'virginica'], [6.5, 3.0, 5.2, 2.0, 'virginica'], [6.5, 3.0, 5.2, 2.0, 'virginica'], [6.2, 3.4, 5.4, 2.3, 'virginica'], [6.2, 3.4, 5.4, 2.3, 'virginica'], [6.2, 3.4, 5.4, 2.3, 'virginica']]\n"
     ]
    }
   ],
   "source": [
    "print(traindata)"
   ]
  },
  {
   "cell_type": "markdown",
   "metadata": {},
   "source": [
    "## Calculate Eucledean distance"
   ]
  },
  {
   "cell_type": "code",
   "execution_count": 49,
   "metadata": {},
   "outputs": [],
   "source": [
    "import math\n",
    "def EclideanDistance(instance1,instance2,length):\n",
    "    distance=0\n",
    "    for x in range(length):\n",
    "        distance += pow(instance1[x]-instance2[x],2)\n",
    "    return math.sqrt(distance)"
   ]
  },
  {
   "cell_type": "code",
   "execution_count": 50,
   "metadata": {},
   "outputs": [
    {
     "name": "stdout",
     "output_type": "stream",
     "text": [
      "3.4641016151377544\n"
     ]
    }
   ],
   "source": [
    "data1=[2,2,2,'a']\n",
    "data2=[4,4,4,'b']\n",
    "distamce=EclideanDistance(data1,data2,3)\n",
    "print(distamce)\n"
   ]
  },
  {
   "cell_type": "code",
   "execution_count": null,
   "metadata": {},
   "outputs": [],
   "source": []
  }
 ],
 "metadata": {
  "kernelspec": {
   "display_name": "Python 3",
   "language": "python",
   "name": "python3"
  },
  "language_info": {
   "codemirror_mode": {
    "name": "ipython",
    "version": 3
   },
   "file_extension": ".py",
   "mimetype": "text/x-python",
   "name": "python",
   "nbconvert_exporter": "python",
   "pygments_lexer": "ipython3",
   "version": "3.7.3"
  }
 },
 "nbformat": 4,
 "nbformat_minor": 2
}
